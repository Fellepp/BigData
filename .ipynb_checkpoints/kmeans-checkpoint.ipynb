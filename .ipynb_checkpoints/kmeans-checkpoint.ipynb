{
 "cells": [
  {
   "cell_type": "markdown",
   "metadata": {
    "id": "S6B_jUApOkcn"
   },
   "source": [
    "# **A tener en cuenta**\n"
   ]
  },
  {
   "cell_type": "markdown",
   "metadata": {
    "id": "FaIChiGicsx6"
   },
   "source": [
    "Este notebook está configurado para ejecutar instrucciones de R de forma directa (puedes descargar el notebook y abrirlo en un editor de texto normal para que compruebes la especificación del kernel en los metadatos).\n"
   ]
  },
  {
   "cell_type": "markdown",
   "metadata": {
    "id": "D6JBGZXehcUa"
   },
   "source": [
    "# **Paquetes necesarios**\n",
    "\n",
    "*   **factoextra:** contiene funciones para extraer y visualizar la salida de diferentes análisis de datos multivariantes\n",
    "*   **dplyr:** contiene funciones para la manipulación de datos tales como filtrado por filas, selección de columnas, reordenación de filas ...\n",
    "\n",
    "\n",
    "\n",
    "\n",
    "\n",
    "\n",
    "\n",
    "\n",
    "\n",
    "\n",
    "\n",
    "\n",
    "\n",
    "\n",
    "\n"
   ]
  },
  {
   "cell_type": "markdown",
   "metadata": {
    "id": "HtaDRziSzW1Y"
   },
   "source": [
    "# **Preliminares**"
   ]
  },
  {
   "cell_type": "markdown",
   "metadata": {
    "id": "7OqUzjh230dm"
   },
   "source": [
    "Instalamos el paquetes factoextra que contiene la función fviz_cluster, usada para visualizar los clusters encontrados. Instalamos también el paquete dplyr, para usar la función select que nos permitirá seleccionar las variables (columnas) que usaremos durante el análisis "
   ]
  },
  {
   "cell_type": "code",
   "execution_count": 5,
   "metadata": {
    "colab": {
     "base_uri": "https://localhost:8080/"
    },
    "executionInfo": {
     "elapsed": 631001,
     "status": "ok",
     "timestamp": 1615553413875,
     "user": {
      "displayName": "José Marcos Moreno Vega",
      "photoUrl": "",
      "userId": "03518730894987271919"
     },
     "user_tz": 0
    },
    "id": "k4OykamucQGL",
    "outputId": "766d5e10-3a07-45dd-8cf2-4d553b7b1078"
   },
   "outputs": [
    {
     "name": "stderr",
     "output_type": "stream",
     "text": [
      "Installing package into ‘/home/fleppy/R/x86_64-pc-linux-gnu-library/3.6’\n",
      "(as ‘lib’ is unspecified)\n",
      "\n",
      "also installing the dependencies ‘rstatix’, ‘FactoMineR’, ‘ggpubr’\n",
      "\n",
      "\n",
      "Loading required package: ggplot2\n",
      "\n",
      "Welcome! Want to learn more? See two factoextra-related books at https://goo.gl/ve3WBa\n",
      "\n"
     ]
    }
   ],
   "source": [
    "install.packages(\"factoextra\")\n",
    "library(factoextra)"
   ]
  },
  {
   "cell_type": "code",
   "execution_count": 38,
   "metadata": {
    "colab": {
     "base_uri": "https://localhost:8080/"
    },
    "executionInfo": {
     "elapsed": 643068,
     "status": "ok",
     "timestamp": 1615553425948,
     "user": {
      "displayName": "José Marcos Moreno Vega",
      "photoUrl": "",
      "userId": "03518730894987271919"
     },
     "user_tz": 0
    },
    "id": "miP8X9J-EXES",
    "outputId": "d15e563b-8213-45c4-99e2-01742cb23716"
   },
   "outputs": [
    {
     "name": "stderr",
     "output_type": "stream",
     "text": [
      "Installing package into ‘/home/fleppy/R/x86_64-pc-linux-gnu-library/3.6’\n",
      "(as ‘lib’ is unspecified)\n",
      "\n",
      "Installing package into ‘/home/fleppy/R/x86_64-pc-linux-gnu-library/3.6’\n",
      "(as ‘lib’ is unspecified)\n",
      "\n",
      "Warning message:\n",
      "“package ‘clusplot’ is not available (for R version 3.6.3)”\n"
     ]
    }
   ],
   "source": [
    "install.packages(\"dplyr\")\n",
    "library(dplyr)"
   ]
  },
  {
   "cell_type": "markdown",
   "metadata": {
    "id": "XnViB40excF1"
   },
   "source": [
    "# **Carga y preparación de datos**"
   ]
  },
  {
   "cell_type": "markdown",
   "metadata": {
    "id": "-NknqtrZzgiN"
   },
   "source": [
    "Usaremos el conjunto de datos iris para ejemplificar el análisis cluster usando el algoritmo K-means. La base de datos iris contiene información de 150 flores de las especies setosa, versicolor y virginica. Para cada una de las 150 flores se ha anotado la longitud y amplitud del pétalo y del sépalo.\n",
    "\n",
    "En primer lugar, leemos los datos del fichero iris.csv y los almacenamos en el dataframe *mydata*. A continuación, mostramos el dataframe y observamos que el conjunto de datos no requiere de ningún proceso de limpieza."
   ]
  },
  {
   "cell_type": "code",
   "execution_count": 10,
   "metadata": {
    "colab": {
     "base_uri": "https://localhost:8080/",
     "height": 0
    },
    "executionInfo": {
     "elapsed": 643064,
     "status": "ok",
     "timestamp": 1615553425949,
     "user": {
      "displayName": "José Marcos Moreno Vega",
      "photoUrl": "",
      "userId": "03518730894987271919"
     },
     "user_tz": 0
    },
    "id": "rZxkMMpAy39X",
    "outputId": "226e4a99-be72-4792-ec8f-9e254566383a"
   },
   "outputs": [
    {
     "data": {
      "text/html": [
       "<table class=\"dataframe\">\n",
       "<caption>A data.frame: 150 × 5</caption>\n",
       "<thead>\n",
       "\t<tr><th scope=col>sepal.length</th><th scope=col>sepal.width</th><th scope=col>petal.length</th><th scope=col>petal.width</th><th scope=col>variety</th></tr>\n",
       "\t<tr><th scope=col>&lt;dbl&gt;</th><th scope=col>&lt;dbl&gt;</th><th scope=col>&lt;dbl&gt;</th><th scope=col>&lt;dbl&gt;</th><th scope=col>&lt;fct&gt;</th></tr>\n",
       "</thead>\n",
       "<tbody>\n",
       "\t<tr><td>5.1</td><td>3.5</td><td>1.4</td><td>0.2</td><td>Setosa</td></tr>\n",
       "\t<tr><td>4.9</td><td>3.0</td><td>1.4</td><td>0.2</td><td>Setosa</td></tr>\n",
       "\t<tr><td>4.7</td><td>3.2</td><td>1.3</td><td>0.2</td><td>Setosa</td></tr>\n",
       "\t<tr><td>4.6</td><td>3.1</td><td>1.5</td><td>0.2</td><td>Setosa</td></tr>\n",
       "\t<tr><td>5.0</td><td>3.6</td><td>1.4</td><td>0.2</td><td>Setosa</td></tr>\n",
       "\t<tr><td>5.4</td><td>3.9</td><td>1.7</td><td>0.4</td><td>Setosa</td></tr>\n",
       "\t<tr><td>4.6</td><td>3.4</td><td>1.4</td><td>0.3</td><td>Setosa</td></tr>\n",
       "\t<tr><td>5.0</td><td>3.4</td><td>1.5</td><td>0.2</td><td>Setosa</td></tr>\n",
       "\t<tr><td>4.4</td><td>2.9</td><td>1.4</td><td>0.2</td><td>Setosa</td></tr>\n",
       "\t<tr><td>4.9</td><td>3.1</td><td>1.5</td><td>0.1</td><td>Setosa</td></tr>\n",
       "\t<tr><td>5.4</td><td>3.7</td><td>1.5</td><td>0.2</td><td>Setosa</td></tr>\n",
       "\t<tr><td>4.8</td><td>3.4</td><td>1.6</td><td>0.2</td><td>Setosa</td></tr>\n",
       "\t<tr><td>4.8</td><td>3.0</td><td>1.4</td><td>0.1</td><td>Setosa</td></tr>\n",
       "\t<tr><td>4.3</td><td>3.0</td><td>1.1</td><td>0.1</td><td>Setosa</td></tr>\n",
       "\t<tr><td>5.8</td><td>4.0</td><td>1.2</td><td>0.2</td><td>Setosa</td></tr>\n",
       "\t<tr><td>5.7</td><td>4.4</td><td>1.5</td><td>0.4</td><td>Setosa</td></tr>\n",
       "\t<tr><td>5.4</td><td>3.9</td><td>1.3</td><td>0.4</td><td>Setosa</td></tr>\n",
       "\t<tr><td>5.1</td><td>3.5</td><td>1.4</td><td>0.3</td><td>Setosa</td></tr>\n",
       "\t<tr><td>5.7</td><td>3.8</td><td>1.7</td><td>0.3</td><td>Setosa</td></tr>\n",
       "\t<tr><td>5.1</td><td>3.8</td><td>1.5</td><td>0.3</td><td>Setosa</td></tr>\n",
       "\t<tr><td>5.4</td><td>3.4</td><td>1.7</td><td>0.2</td><td>Setosa</td></tr>\n",
       "\t<tr><td>5.1</td><td>3.7</td><td>1.5</td><td>0.4</td><td>Setosa</td></tr>\n",
       "\t<tr><td>4.6</td><td>3.6</td><td>1.0</td><td>0.2</td><td>Setosa</td></tr>\n",
       "\t<tr><td>5.1</td><td>3.3</td><td>1.7</td><td>0.5</td><td>Setosa</td></tr>\n",
       "\t<tr><td>4.8</td><td>3.4</td><td>1.9</td><td>0.2</td><td>Setosa</td></tr>\n",
       "\t<tr><td>5.0</td><td>3.0</td><td>1.6</td><td>0.2</td><td>Setosa</td></tr>\n",
       "\t<tr><td>5.0</td><td>3.4</td><td>1.6</td><td>0.4</td><td>Setosa</td></tr>\n",
       "\t<tr><td>5.2</td><td>3.5</td><td>1.5</td><td>0.2</td><td>Setosa</td></tr>\n",
       "\t<tr><td>5.2</td><td>3.4</td><td>1.4</td><td>0.2</td><td>Setosa</td></tr>\n",
       "\t<tr><td>4.7</td><td>3.2</td><td>1.6</td><td>0.2</td><td>Setosa</td></tr>\n",
       "\t<tr><td>⋮</td><td>⋮</td><td>⋮</td><td>⋮</td><td>⋮</td></tr>\n",
       "\t<tr><td>6.9</td><td>3.2</td><td>5.7</td><td>2.3</td><td>Virginica</td></tr>\n",
       "\t<tr><td>5.6</td><td>2.8</td><td>4.9</td><td>2.0</td><td>Virginica</td></tr>\n",
       "\t<tr><td>7.7</td><td>2.8</td><td>6.7</td><td>2.0</td><td>Virginica</td></tr>\n",
       "\t<tr><td>6.3</td><td>2.7</td><td>4.9</td><td>1.8</td><td>Virginica</td></tr>\n",
       "\t<tr><td>6.7</td><td>3.3</td><td>5.7</td><td>2.1</td><td>Virginica</td></tr>\n",
       "\t<tr><td>7.2</td><td>3.2</td><td>6.0</td><td>1.8</td><td>Virginica</td></tr>\n",
       "\t<tr><td>6.2</td><td>2.8</td><td>4.8</td><td>1.8</td><td>Virginica</td></tr>\n",
       "\t<tr><td>6.1</td><td>3.0</td><td>4.9</td><td>1.8</td><td>Virginica</td></tr>\n",
       "\t<tr><td>6.4</td><td>2.8</td><td>5.6</td><td>2.1</td><td>Virginica</td></tr>\n",
       "\t<tr><td>7.2</td><td>3.0</td><td>5.8</td><td>1.6</td><td>Virginica</td></tr>\n",
       "\t<tr><td>7.4</td><td>2.8</td><td>6.1</td><td>1.9</td><td>Virginica</td></tr>\n",
       "\t<tr><td>7.9</td><td>3.8</td><td>6.4</td><td>2.0</td><td>Virginica</td></tr>\n",
       "\t<tr><td>6.4</td><td>2.8</td><td>5.6</td><td>2.2</td><td>Virginica</td></tr>\n",
       "\t<tr><td>6.3</td><td>2.8</td><td>5.1</td><td>1.5</td><td>Virginica</td></tr>\n",
       "\t<tr><td>6.1</td><td>2.6</td><td>5.6</td><td>1.4</td><td>Virginica</td></tr>\n",
       "\t<tr><td>7.7</td><td>3.0</td><td>6.1</td><td>2.3</td><td>Virginica</td></tr>\n",
       "\t<tr><td>6.3</td><td>3.4</td><td>5.6</td><td>2.4</td><td>Virginica</td></tr>\n",
       "\t<tr><td>6.4</td><td>3.1</td><td>5.5</td><td>1.8</td><td>Virginica</td></tr>\n",
       "\t<tr><td>6.0</td><td>3.0</td><td>4.8</td><td>1.8</td><td>Virginica</td></tr>\n",
       "\t<tr><td>6.9</td><td>3.1</td><td>5.4</td><td>2.1</td><td>Virginica</td></tr>\n",
       "\t<tr><td>6.7</td><td>3.1</td><td>5.6</td><td>2.4</td><td>Virginica</td></tr>\n",
       "\t<tr><td>6.9</td><td>3.1</td><td>5.1</td><td>2.3</td><td>Virginica</td></tr>\n",
       "\t<tr><td>5.8</td><td>2.7</td><td>5.1</td><td>1.9</td><td>Virginica</td></tr>\n",
       "\t<tr><td>6.8</td><td>3.2</td><td>5.9</td><td>2.3</td><td>Virginica</td></tr>\n",
       "\t<tr><td>6.7</td><td>3.3</td><td>5.7</td><td>2.5</td><td>Virginica</td></tr>\n",
       "\t<tr><td>6.7</td><td>3.0</td><td>5.2</td><td>2.3</td><td>Virginica</td></tr>\n",
       "\t<tr><td>6.3</td><td>2.5</td><td>5.0</td><td>1.9</td><td>Virginica</td></tr>\n",
       "\t<tr><td>6.5</td><td>3.0</td><td>5.2</td><td>2.0</td><td>Virginica</td></tr>\n",
       "\t<tr><td>6.2</td><td>3.4</td><td>5.4</td><td>2.3</td><td>Virginica</td></tr>\n",
       "\t<tr><td>5.9</td><td>3.0</td><td>5.1</td><td>1.8</td><td>Virginica</td></tr>\n",
       "</tbody>\n",
       "</table>\n"
      ],
      "text/latex": [
       "A data.frame: 150 × 5\n",
       "\\begin{tabular}{lllll}\n",
       " sepal.length & sepal.width & petal.length & petal.width & variety\\\\\n",
       " <dbl> & <dbl> & <dbl> & <dbl> & <fct>\\\\\n",
       "\\hline\n",
       "\t 5.1 & 3.5 & 1.4 & 0.2 & Setosa\\\\\n",
       "\t 4.9 & 3.0 & 1.4 & 0.2 & Setosa\\\\\n",
       "\t 4.7 & 3.2 & 1.3 & 0.2 & Setosa\\\\\n",
       "\t 4.6 & 3.1 & 1.5 & 0.2 & Setosa\\\\\n",
       "\t 5.0 & 3.6 & 1.4 & 0.2 & Setosa\\\\\n",
       "\t 5.4 & 3.9 & 1.7 & 0.4 & Setosa\\\\\n",
       "\t 4.6 & 3.4 & 1.4 & 0.3 & Setosa\\\\\n",
       "\t 5.0 & 3.4 & 1.5 & 0.2 & Setosa\\\\\n",
       "\t 4.4 & 2.9 & 1.4 & 0.2 & Setosa\\\\\n",
       "\t 4.9 & 3.1 & 1.5 & 0.1 & Setosa\\\\\n",
       "\t 5.4 & 3.7 & 1.5 & 0.2 & Setosa\\\\\n",
       "\t 4.8 & 3.4 & 1.6 & 0.2 & Setosa\\\\\n",
       "\t 4.8 & 3.0 & 1.4 & 0.1 & Setosa\\\\\n",
       "\t 4.3 & 3.0 & 1.1 & 0.1 & Setosa\\\\\n",
       "\t 5.8 & 4.0 & 1.2 & 0.2 & Setosa\\\\\n",
       "\t 5.7 & 4.4 & 1.5 & 0.4 & Setosa\\\\\n",
       "\t 5.4 & 3.9 & 1.3 & 0.4 & Setosa\\\\\n",
       "\t 5.1 & 3.5 & 1.4 & 0.3 & Setosa\\\\\n",
       "\t 5.7 & 3.8 & 1.7 & 0.3 & Setosa\\\\\n",
       "\t 5.1 & 3.8 & 1.5 & 0.3 & Setosa\\\\\n",
       "\t 5.4 & 3.4 & 1.7 & 0.2 & Setosa\\\\\n",
       "\t 5.1 & 3.7 & 1.5 & 0.4 & Setosa\\\\\n",
       "\t 4.6 & 3.6 & 1.0 & 0.2 & Setosa\\\\\n",
       "\t 5.1 & 3.3 & 1.7 & 0.5 & Setosa\\\\\n",
       "\t 4.8 & 3.4 & 1.9 & 0.2 & Setosa\\\\\n",
       "\t 5.0 & 3.0 & 1.6 & 0.2 & Setosa\\\\\n",
       "\t 5.0 & 3.4 & 1.6 & 0.4 & Setosa\\\\\n",
       "\t 5.2 & 3.5 & 1.5 & 0.2 & Setosa\\\\\n",
       "\t 5.2 & 3.4 & 1.4 & 0.2 & Setosa\\\\\n",
       "\t 4.7 & 3.2 & 1.6 & 0.2 & Setosa\\\\\n",
       "\t ⋮ & ⋮ & ⋮ & ⋮ & ⋮\\\\\n",
       "\t 6.9 & 3.2 & 5.7 & 2.3 & Virginica\\\\\n",
       "\t 5.6 & 2.8 & 4.9 & 2.0 & Virginica\\\\\n",
       "\t 7.7 & 2.8 & 6.7 & 2.0 & Virginica\\\\\n",
       "\t 6.3 & 2.7 & 4.9 & 1.8 & Virginica\\\\\n",
       "\t 6.7 & 3.3 & 5.7 & 2.1 & Virginica\\\\\n",
       "\t 7.2 & 3.2 & 6.0 & 1.8 & Virginica\\\\\n",
       "\t 6.2 & 2.8 & 4.8 & 1.8 & Virginica\\\\\n",
       "\t 6.1 & 3.0 & 4.9 & 1.8 & Virginica\\\\\n",
       "\t 6.4 & 2.8 & 5.6 & 2.1 & Virginica\\\\\n",
       "\t 7.2 & 3.0 & 5.8 & 1.6 & Virginica\\\\\n",
       "\t 7.4 & 2.8 & 6.1 & 1.9 & Virginica\\\\\n",
       "\t 7.9 & 3.8 & 6.4 & 2.0 & Virginica\\\\\n",
       "\t 6.4 & 2.8 & 5.6 & 2.2 & Virginica\\\\\n",
       "\t 6.3 & 2.8 & 5.1 & 1.5 & Virginica\\\\\n",
       "\t 6.1 & 2.6 & 5.6 & 1.4 & Virginica\\\\\n",
       "\t 7.7 & 3.0 & 6.1 & 2.3 & Virginica\\\\\n",
       "\t 6.3 & 3.4 & 5.6 & 2.4 & Virginica\\\\\n",
       "\t 6.4 & 3.1 & 5.5 & 1.8 & Virginica\\\\\n",
       "\t 6.0 & 3.0 & 4.8 & 1.8 & Virginica\\\\\n",
       "\t 6.9 & 3.1 & 5.4 & 2.1 & Virginica\\\\\n",
       "\t 6.7 & 3.1 & 5.6 & 2.4 & Virginica\\\\\n",
       "\t 6.9 & 3.1 & 5.1 & 2.3 & Virginica\\\\\n",
       "\t 5.8 & 2.7 & 5.1 & 1.9 & Virginica\\\\\n",
       "\t 6.8 & 3.2 & 5.9 & 2.3 & Virginica\\\\\n",
       "\t 6.7 & 3.3 & 5.7 & 2.5 & Virginica\\\\\n",
       "\t 6.7 & 3.0 & 5.2 & 2.3 & Virginica\\\\\n",
       "\t 6.3 & 2.5 & 5.0 & 1.9 & Virginica\\\\\n",
       "\t 6.5 & 3.0 & 5.2 & 2.0 & Virginica\\\\\n",
       "\t 6.2 & 3.4 & 5.4 & 2.3 & Virginica\\\\\n",
       "\t 5.9 & 3.0 & 5.1 & 1.8 & Virginica\\\\\n",
       "\\end{tabular}\n"
      ],
      "text/markdown": [
       "\n",
       "A data.frame: 150 × 5\n",
       "\n",
       "| sepal.length &lt;dbl&gt; | sepal.width &lt;dbl&gt; | petal.length &lt;dbl&gt; | petal.width &lt;dbl&gt; | variety &lt;fct&gt; |\n",
       "|---|---|---|---|---|\n",
       "| 5.1 | 3.5 | 1.4 | 0.2 | Setosa |\n",
       "| 4.9 | 3.0 | 1.4 | 0.2 | Setosa |\n",
       "| 4.7 | 3.2 | 1.3 | 0.2 | Setosa |\n",
       "| 4.6 | 3.1 | 1.5 | 0.2 | Setosa |\n",
       "| 5.0 | 3.6 | 1.4 | 0.2 | Setosa |\n",
       "| 5.4 | 3.9 | 1.7 | 0.4 | Setosa |\n",
       "| 4.6 | 3.4 | 1.4 | 0.3 | Setosa |\n",
       "| 5.0 | 3.4 | 1.5 | 0.2 | Setosa |\n",
       "| 4.4 | 2.9 | 1.4 | 0.2 | Setosa |\n",
       "| 4.9 | 3.1 | 1.5 | 0.1 | Setosa |\n",
       "| 5.4 | 3.7 | 1.5 | 0.2 | Setosa |\n",
       "| 4.8 | 3.4 | 1.6 | 0.2 | Setosa |\n",
       "| 4.8 | 3.0 | 1.4 | 0.1 | Setosa |\n",
       "| 4.3 | 3.0 | 1.1 | 0.1 | Setosa |\n",
       "| 5.8 | 4.0 | 1.2 | 0.2 | Setosa |\n",
       "| 5.7 | 4.4 | 1.5 | 0.4 | Setosa |\n",
       "| 5.4 | 3.9 | 1.3 | 0.4 | Setosa |\n",
       "| 5.1 | 3.5 | 1.4 | 0.3 | Setosa |\n",
       "| 5.7 | 3.8 | 1.7 | 0.3 | Setosa |\n",
       "| 5.1 | 3.8 | 1.5 | 0.3 | Setosa |\n",
       "| 5.4 | 3.4 | 1.7 | 0.2 | Setosa |\n",
       "| 5.1 | 3.7 | 1.5 | 0.4 | Setosa |\n",
       "| 4.6 | 3.6 | 1.0 | 0.2 | Setosa |\n",
       "| 5.1 | 3.3 | 1.7 | 0.5 | Setosa |\n",
       "| 4.8 | 3.4 | 1.9 | 0.2 | Setosa |\n",
       "| 5.0 | 3.0 | 1.6 | 0.2 | Setosa |\n",
       "| 5.0 | 3.4 | 1.6 | 0.4 | Setosa |\n",
       "| 5.2 | 3.5 | 1.5 | 0.2 | Setosa |\n",
       "| 5.2 | 3.4 | 1.4 | 0.2 | Setosa |\n",
       "| 4.7 | 3.2 | 1.6 | 0.2 | Setosa |\n",
       "| ⋮ | ⋮ | ⋮ | ⋮ | ⋮ |\n",
       "| 6.9 | 3.2 | 5.7 | 2.3 | Virginica |\n",
       "| 5.6 | 2.8 | 4.9 | 2.0 | Virginica |\n",
       "| 7.7 | 2.8 | 6.7 | 2.0 | Virginica |\n",
       "| 6.3 | 2.7 | 4.9 | 1.8 | Virginica |\n",
       "| 6.7 | 3.3 | 5.7 | 2.1 | Virginica |\n",
       "| 7.2 | 3.2 | 6.0 | 1.8 | Virginica |\n",
       "| 6.2 | 2.8 | 4.8 | 1.8 | Virginica |\n",
       "| 6.1 | 3.0 | 4.9 | 1.8 | Virginica |\n",
       "| 6.4 | 2.8 | 5.6 | 2.1 | Virginica |\n",
       "| 7.2 | 3.0 | 5.8 | 1.6 | Virginica |\n",
       "| 7.4 | 2.8 | 6.1 | 1.9 | Virginica |\n",
       "| 7.9 | 3.8 | 6.4 | 2.0 | Virginica |\n",
       "| 6.4 | 2.8 | 5.6 | 2.2 | Virginica |\n",
       "| 6.3 | 2.8 | 5.1 | 1.5 | Virginica |\n",
       "| 6.1 | 2.6 | 5.6 | 1.4 | Virginica |\n",
       "| 7.7 | 3.0 | 6.1 | 2.3 | Virginica |\n",
       "| 6.3 | 3.4 | 5.6 | 2.4 | Virginica |\n",
       "| 6.4 | 3.1 | 5.5 | 1.8 | Virginica |\n",
       "| 6.0 | 3.0 | 4.8 | 1.8 | Virginica |\n",
       "| 6.9 | 3.1 | 5.4 | 2.1 | Virginica |\n",
       "| 6.7 | 3.1 | 5.6 | 2.4 | Virginica |\n",
       "| 6.9 | 3.1 | 5.1 | 2.3 | Virginica |\n",
       "| 5.8 | 2.7 | 5.1 | 1.9 | Virginica |\n",
       "| 6.8 | 3.2 | 5.9 | 2.3 | Virginica |\n",
       "| 6.7 | 3.3 | 5.7 | 2.5 | Virginica |\n",
       "| 6.7 | 3.0 | 5.2 | 2.3 | Virginica |\n",
       "| 6.3 | 2.5 | 5.0 | 1.9 | Virginica |\n",
       "| 6.5 | 3.0 | 5.2 | 2.0 | Virginica |\n",
       "| 6.2 | 3.4 | 5.4 | 2.3 | Virginica |\n",
       "| 5.9 | 3.0 | 5.1 | 1.8 | Virginica |\n",
       "\n"
      ],
      "text/plain": [
       "    sepal.length sepal.width petal.length petal.width variety  \n",
       "1   5.1          3.5         1.4          0.2         Setosa   \n",
       "2   4.9          3.0         1.4          0.2         Setosa   \n",
       "3   4.7          3.2         1.3          0.2         Setosa   \n",
       "4   4.6          3.1         1.5          0.2         Setosa   \n",
       "5   5.0          3.6         1.4          0.2         Setosa   \n",
       "6   5.4          3.9         1.7          0.4         Setosa   \n",
       "7   4.6          3.4         1.4          0.3         Setosa   \n",
       "8   5.0          3.4         1.5          0.2         Setosa   \n",
       "9   4.4          2.9         1.4          0.2         Setosa   \n",
       "10  4.9          3.1         1.5          0.1         Setosa   \n",
       "11  5.4          3.7         1.5          0.2         Setosa   \n",
       "12  4.8          3.4         1.6          0.2         Setosa   \n",
       "13  4.8          3.0         1.4          0.1         Setosa   \n",
       "14  4.3          3.0         1.1          0.1         Setosa   \n",
       "15  5.8          4.0         1.2          0.2         Setosa   \n",
       "16  5.7          4.4         1.5          0.4         Setosa   \n",
       "17  5.4          3.9         1.3          0.4         Setosa   \n",
       "18  5.1          3.5         1.4          0.3         Setosa   \n",
       "19  5.7          3.8         1.7          0.3         Setosa   \n",
       "20  5.1          3.8         1.5          0.3         Setosa   \n",
       "21  5.4          3.4         1.7          0.2         Setosa   \n",
       "22  5.1          3.7         1.5          0.4         Setosa   \n",
       "23  4.6          3.6         1.0          0.2         Setosa   \n",
       "24  5.1          3.3         1.7          0.5         Setosa   \n",
       "25  4.8          3.4         1.9          0.2         Setosa   \n",
       "26  5.0          3.0         1.6          0.2         Setosa   \n",
       "27  5.0          3.4         1.6          0.4         Setosa   \n",
       "28  5.2          3.5         1.5          0.2         Setosa   \n",
       "29  5.2          3.4         1.4          0.2         Setosa   \n",
       "30  4.7          3.2         1.6          0.2         Setosa   \n",
       "⋮   ⋮            ⋮           ⋮            ⋮           ⋮        \n",
       "121 6.9          3.2         5.7          2.3         Virginica\n",
       "122 5.6          2.8         4.9          2.0         Virginica\n",
       "123 7.7          2.8         6.7          2.0         Virginica\n",
       "124 6.3          2.7         4.9          1.8         Virginica\n",
       "125 6.7          3.3         5.7          2.1         Virginica\n",
       "126 7.2          3.2         6.0          1.8         Virginica\n",
       "127 6.2          2.8         4.8          1.8         Virginica\n",
       "128 6.1          3.0         4.9          1.8         Virginica\n",
       "129 6.4          2.8         5.6          2.1         Virginica\n",
       "130 7.2          3.0         5.8          1.6         Virginica\n",
       "131 7.4          2.8         6.1          1.9         Virginica\n",
       "132 7.9          3.8         6.4          2.0         Virginica\n",
       "133 6.4          2.8         5.6          2.2         Virginica\n",
       "134 6.3          2.8         5.1          1.5         Virginica\n",
       "135 6.1          2.6         5.6          1.4         Virginica\n",
       "136 7.7          3.0         6.1          2.3         Virginica\n",
       "137 6.3          3.4         5.6          2.4         Virginica\n",
       "138 6.4          3.1         5.5          1.8         Virginica\n",
       "139 6.0          3.0         4.8          1.8         Virginica\n",
       "140 6.9          3.1         5.4          2.1         Virginica\n",
       "141 6.7          3.1         5.6          2.4         Virginica\n",
       "142 6.9          3.1         5.1          2.3         Virginica\n",
       "143 5.8          2.7         5.1          1.9         Virginica\n",
       "144 6.8          3.2         5.9          2.3         Virginica\n",
       "145 6.7          3.3         5.7          2.5         Virginica\n",
       "146 6.7          3.0         5.2          2.3         Virginica\n",
       "147 6.3          2.5         5.0          1.9         Virginica\n",
       "148 6.5          3.0         5.2          2.0         Virginica\n",
       "149 6.2          3.4         5.4          2.3         Virginica\n",
       "150 5.9          3.0         5.1          1.8         Virginica"
      ]
     },
     "metadata": {},
     "output_type": "display_data"
    }
   ],
   "source": [
    "mydata <- read.csv(\"iris.csv\", header = TRUE)\n",
    "mydata"
   ]
  },
  {
   "cell_type": "markdown",
   "metadata": {
    "id": "o5tHzwbB56mO"
   },
   "source": [
    "# **Análisis de los datos**\n"
   ]
  },
  {
   "cell_type": "markdown",
   "metadata": {
    "id": "uCE1AvPhPlcD"
   },
   "source": [
    "Seleccionamos las columnas petal.length y sepal.length del fichero de datos como variables de trabajo. Usamos para ello la función *select* del paquete ***dplyr***."
   ]
  },
  {
   "cell_type": "code",
   "execution_count": 11,
   "metadata": {
    "colab": {
     "base_uri": "https://localhost:8080/",
     "height": 0
    },
    "executionInfo": {
     "elapsed": 643059,
     "status": "ok",
     "timestamp": 1615553425949,
     "user": {
      "displayName": "José Marcos Moreno Vega",
      "photoUrl": "",
      "userId": "03518730894987271919"
     },
     "user_tz": 0
    },
    "id": "Q0skDgRRNmMq",
    "outputId": "5cd61fa4-0714-4d97-a3f4-015539a8841f"
   },
   "outputs": [
    {
     "data": {
      "text/html": [
       "<table class=\"dataframe\">\n",
       "<caption>A data.frame: 150 × 2</caption>\n",
       "<thead>\n",
       "\t<tr><th scope=col>petal.length</th><th scope=col>sepal.length</th></tr>\n",
       "\t<tr><th scope=col>&lt;dbl&gt;</th><th scope=col>&lt;dbl&gt;</th></tr>\n",
       "</thead>\n",
       "<tbody>\n",
       "\t<tr><td>1.4</td><td>5.1</td></tr>\n",
       "\t<tr><td>1.4</td><td>4.9</td></tr>\n",
       "\t<tr><td>1.3</td><td>4.7</td></tr>\n",
       "\t<tr><td>1.5</td><td>4.6</td></tr>\n",
       "\t<tr><td>1.4</td><td>5.0</td></tr>\n",
       "\t<tr><td>1.7</td><td>5.4</td></tr>\n",
       "\t<tr><td>1.4</td><td>4.6</td></tr>\n",
       "\t<tr><td>1.5</td><td>5.0</td></tr>\n",
       "\t<tr><td>1.4</td><td>4.4</td></tr>\n",
       "\t<tr><td>1.5</td><td>4.9</td></tr>\n",
       "\t<tr><td>1.5</td><td>5.4</td></tr>\n",
       "\t<tr><td>1.6</td><td>4.8</td></tr>\n",
       "\t<tr><td>1.4</td><td>4.8</td></tr>\n",
       "\t<tr><td>1.1</td><td>4.3</td></tr>\n",
       "\t<tr><td>1.2</td><td>5.8</td></tr>\n",
       "\t<tr><td>1.5</td><td>5.7</td></tr>\n",
       "\t<tr><td>1.3</td><td>5.4</td></tr>\n",
       "\t<tr><td>1.4</td><td>5.1</td></tr>\n",
       "\t<tr><td>1.7</td><td>5.7</td></tr>\n",
       "\t<tr><td>1.5</td><td>5.1</td></tr>\n",
       "\t<tr><td>1.7</td><td>5.4</td></tr>\n",
       "\t<tr><td>1.5</td><td>5.1</td></tr>\n",
       "\t<tr><td>1.0</td><td>4.6</td></tr>\n",
       "\t<tr><td>1.7</td><td>5.1</td></tr>\n",
       "\t<tr><td>1.9</td><td>4.8</td></tr>\n",
       "\t<tr><td>1.6</td><td>5.0</td></tr>\n",
       "\t<tr><td>1.6</td><td>5.0</td></tr>\n",
       "\t<tr><td>1.5</td><td>5.2</td></tr>\n",
       "\t<tr><td>1.4</td><td>5.2</td></tr>\n",
       "\t<tr><td>1.6</td><td>4.7</td></tr>\n",
       "\t<tr><td>⋮</td><td>⋮</td></tr>\n",
       "\t<tr><td>5.7</td><td>6.9</td></tr>\n",
       "\t<tr><td>4.9</td><td>5.6</td></tr>\n",
       "\t<tr><td>6.7</td><td>7.7</td></tr>\n",
       "\t<tr><td>4.9</td><td>6.3</td></tr>\n",
       "\t<tr><td>5.7</td><td>6.7</td></tr>\n",
       "\t<tr><td>6.0</td><td>7.2</td></tr>\n",
       "\t<tr><td>4.8</td><td>6.2</td></tr>\n",
       "\t<tr><td>4.9</td><td>6.1</td></tr>\n",
       "\t<tr><td>5.6</td><td>6.4</td></tr>\n",
       "\t<tr><td>5.8</td><td>7.2</td></tr>\n",
       "\t<tr><td>6.1</td><td>7.4</td></tr>\n",
       "\t<tr><td>6.4</td><td>7.9</td></tr>\n",
       "\t<tr><td>5.6</td><td>6.4</td></tr>\n",
       "\t<tr><td>5.1</td><td>6.3</td></tr>\n",
       "\t<tr><td>5.6</td><td>6.1</td></tr>\n",
       "\t<tr><td>6.1</td><td>7.7</td></tr>\n",
       "\t<tr><td>5.6</td><td>6.3</td></tr>\n",
       "\t<tr><td>5.5</td><td>6.4</td></tr>\n",
       "\t<tr><td>4.8</td><td>6.0</td></tr>\n",
       "\t<tr><td>5.4</td><td>6.9</td></tr>\n",
       "\t<tr><td>5.6</td><td>6.7</td></tr>\n",
       "\t<tr><td>5.1</td><td>6.9</td></tr>\n",
       "\t<tr><td>5.1</td><td>5.8</td></tr>\n",
       "\t<tr><td>5.9</td><td>6.8</td></tr>\n",
       "\t<tr><td>5.7</td><td>6.7</td></tr>\n",
       "\t<tr><td>5.2</td><td>6.7</td></tr>\n",
       "\t<tr><td>5.0</td><td>6.3</td></tr>\n",
       "\t<tr><td>5.2</td><td>6.5</td></tr>\n",
       "\t<tr><td>5.4</td><td>6.2</td></tr>\n",
       "\t<tr><td>5.1</td><td>5.9</td></tr>\n",
       "</tbody>\n",
       "</table>\n"
      ],
      "text/latex": [
       "A data.frame: 150 × 2\n",
       "\\begin{tabular}{ll}\n",
       " petal.length & sepal.length\\\\\n",
       " <dbl> & <dbl>\\\\\n",
       "\\hline\n",
       "\t 1.4 & 5.1\\\\\n",
       "\t 1.4 & 4.9\\\\\n",
       "\t 1.3 & 4.7\\\\\n",
       "\t 1.5 & 4.6\\\\\n",
       "\t 1.4 & 5.0\\\\\n",
       "\t 1.7 & 5.4\\\\\n",
       "\t 1.4 & 4.6\\\\\n",
       "\t 1.5 & 5.0\\\\\n",
       "\t 1.4 & 4.4\\\\\n",
       "\t 1.5 & 4.9\\\\\n",
       "\t 1.5 & 5.4\\\\\n",
       "\t 1.6 & 4.8\\\\\n",
       "\t 1.4 & 4.8\\\\\n",
       "\t 1.1 & 4.3\\\\\n",
       "\t 1.2 & 5.8\\\\\n",
       "\t 1.5 & 5.7\\\\\n",
       "\t 1.3 & 5.4\\\\\n",
       "\t 1.4 & 5.1\\\\\n",
       "\t 1.7 & 5.7\\\\\n",
       "\t 1.5 & 5.1\\\\\n",
       "\t 1.7 & 5.4\\\\\n",
       "\t 1.5 & 5.1\\\\\n",
       "\t 1.0 & 4.6\\\\\n",
       "\t 1.7 & 5.1\\\\\n",
       "\t 1.9 & 4.8\\\\\n",
       "\t 1.6 & 5.0\\\\\n",
       "\t 1.6 & 5.0\\\\\n",
       "\t 1.5 & 5.2\\\\\n",
       "\t 1.4 & 5.2\\\\\n",
       "\t 1.6 & 4.7\\\\\n",
       "\t ⋮ & ⋮\\\\\n",
       "\t 5.7 & 6.9\\\\\n",
       "\t 4.9 & 5.6\\\\\n",
       "\t 6.7 & 7.7\\\\\n",
       "\t 4.9 & 6.3\\\\\n",
       "\t 5.7 & 6.7\\\\\n",
       "\t 6.0 & 7.2\\\\\n",
       "\t 4.8 & 6.2\\\\\n",
       "\t 4.9 & 6.1\\\\\n",
       "\t 5.6 & 6.4\\\\\n",
       "\t 5.8 & 7.2\\\\\n",
       "\t 6.1 & 7.4\\\\\n",
       "\t 6.4 & 7.9\\\\\n",
       "\t 5.6 & 6.4\\\\\n",
       "\t 5.1 & 6.3\\\\\n",
       "\t 5.6 & 6.1\\\\\n",
       "\t 6.1 & 7.7\\\\\n",
       "\t 5.6 & 6.3\\\\\n",
       "\t 5.5 & 6.4\\\\\n",
       "\t 4.8 & 6.0\\\\\n",
       "\t 5.4 & 6.9\\\\\n",
       "\t 5.6 & 6.7\\\\\n",
       "\t 5.1 & 6.9\\\\\n",
       "\t 5.1 & 5.8\\\\\n",
       "\t 5.9 & 6.8\\\\\n",
       "\t 5.7 & 6.7\\\\\n",
       "\t 5.2 & 6.7\\\\\n",
       "\t 5.0 & 6.3\\\\\n",
       "\t 5.2 & 6.5\\\\\n",
       "\t 5.4 & 6.2\\\\\n",
       "\t 5.1 & 5.9\\\\\n",
       "\\end{tabular}\n"
      ],
      "text/markdown": [
       "\n",
       "A data.frame: 150 × 2\n",
       "\n",
       "| petal.length &lt;dbl&gt; | sepal.length &lt;dbl&gt; |\n",
       "|---|---|\n",
       "| 1.4 | 5.1 |\n",
       "| 1.4 | 4.9 |\n",
       "| 1.3 | 4.7 |\n",
       "| 1.5 | 4.6 |\n",
       "| 1.4 | 5.0 |\n",
       "| 1.7 | 5.4 |\n",
       "| 1.4 | 4.6 |\n",
       "| 1.5 | 5.0 |\n",
       "| 1.4 | 4.4 |\n",
       "| 1.5 | 4.9 |\n",
       "| 1.5 | 5.4 |\n",
       "| 1.6 | 4.8 |\n",
       "| 1.4 | 4.8 |\n",
       "| 1.1 | 4.3 |\n",
       "| 1.2 | 5.8 |\n",
       "| 1.5 | 5.7 |\n",
       "| 1.3 | 5.4 |\n",
       "| 1.4 | 5.1 |\n",
       "| 1.7 | 5.7 |\n",
       "| 1.5 | 5.1 |\n",
       "| 1.7 | 5.4 |\n",
       "| 1.5 | 5.1 |\n",
       "| 1.0 | 4.6 |\n",
       "| 1.7 | 5.1 |\n",
       "| 1.9 | 4.8 |\n",
       "| 1.6 | 5.0 |\n",
       "| 1.6 | 5.0 |\n",
       "| 1.5 | 5.2 |\n",
       "| 1.4 | 5.2 |\n",
       "| 1.6 | 4.7 |\n",
       "| ⋮ | ⋮ |\n",
       "| 5.7 | 6.9 |\n",
       "| 4.9 | 5.6 |\n",
       "| 6.7 | 7.7 |\n",
       "| 4.9 | 6.3 |\n",
       "| 5.7 | 6.7 |\n",
       "| 6.0 | 7.2 |\n",
       "| 4.8 | 6.2 |\n",
       "| 4.9 | 6.1 |\n",
       "| 5.6 | 6.4 |\n",
       "| 5.8 | 7.2 |\n",
       "| 6.1 | 7.4 |\n",
       "| 6.4 | 7.9 |\n",
       "| 5.6 | 6.4 |\n",
       "| 5.1 | 6.3 |\n",
       "| 5.6 | 6.1 |\n",
       "| 6.1 | 7.7 |\n",
       "| 5.6 | 6.3 |\n",
       "| 5.5 | 6.4 |\n",
       "| 4.8 | 6.0 |\n",
       "| 5.4 | 6.9 |\n",
       "| 5.6 | 6.7 |\n",
       "| 5.1 | 6.9 |\n",
       "| 5.1 | 5.8 |\n",
       "| 5.9 | 6.8 |\n",
       "| 5.7 | 6.7 |\n",
       "| 5.2 | 6.7 |\n",
       "| 5.0 | 6.3 |\n",
       "| 5.2 | 6.5 |\n",
       "| 5.4 | 6.2 |\n",
       "| 5.1 | 5.9 |\n",
       "\n"
      ],
      "text/plain": [
       "    petal.length sepal.length\n",
       "1   1.4          5.1         \n",
       "2   1.4          4.9         \n",
       "3   1.3          4.7         \n",
       "4   1.5          4.6         \n",
       "5   1.4          5.0         \n",
       "6   1.7          5.4         \n",
       "7   1.4          4.6         \n",
       "8   1.5          5.0         \n",
       "9   1.4          4.4         \n",
       "10  1.5          4.9         \n",
       "11  1.5          5.4         \n",
       "12  1.6          4.8         \n",
       "13  1.4          4.8         \n",
       "14  1.1          4.3         \n",
       "15  1.2          5.8         \n",
       "16  1.5          5.7         \n",
       "17  1.3          5.4         \n",
       "18  1.4          5.1         \n",
       "19  1.7          5.7         \n",
       "20  1.5          5.1         \n",
       "21  1.7          5.4         \n",
       "22  1.5          5.1         \n",
       "23  1.0          4.6         \n",
       "24  1.7          5.1         \n",
       "25  1.9          4.8         \n",
       "26  1.6          5.0         \n",
       "27  1.6          5.0         \n",
       "28  1.5          5.2         \n",
       "29  1.4          5.2         \n",
       "30  1.6          4.7         \n",
       "⋮   ⋮            ⋮           \n",
       "121 5.7          6.9         \n",
       "122 4.9          5.6         \n",
       "123 6.7          7.7         \n",
       "124 4.9          6.3         \n",
       "125 5.7          6.7         \n",
       "126 6.0          7.2         \n",
       "127 4.8          6.2         \n",
       "128 4.9          6.1         \n",
       "129 5.6          6.4         \n",
       "130 5.8          7.2         \n",
       "131 6.1          7.4         \n",
       "132 6.4          7.9         \n",
       "133 5.6          6.4         \n",
       "134 5.1          6.3         \n",
       "135 5.6          6.1         \n",
       "136 6.1          7.7         \n",
       "137 5.6          6.3         \n",
       "138 5.5          6.4         \n",
       "139 4.8          6.0         \n",
       "140 5.4          6.9         \n",
       "141 5.6          6.7         \n",
       "142 5.1          6.9         \n",
       "143 5.1          5.8         \n",
       "144 5.9          6.8         \n",
       "145 5.7          6.7         \n",
       "146 5.2          6.7         \n",
       "147 5.0          6.3         \n",
       "148 5.2          6.5         \n",
       "149 5.4          6.2         \n",
       "150 5.1          5.9         "
      ]
     },
     "metadata": {},
     "output_type": "display_data"
    }
   ],
   "source": [
    "df <- select(mydata, petal.length, sepal.length)\n",
    "df\n"
   ]
  },
  {
   "cell_type": "markdown",
   "metadata": {
    "id": "b9QcdsgQ6TDj"
   },
   "source": [
    "Aplicamos el algoritmo k-means para encontrar un agrupamiento de los datos. Fijamos el número de clusters a 3 y reiniciamos el algoritmo 10 veces. \n",
    "\n",
    "La función *kmeans* devuelve un objeto de la clase *kmeans* que tiene varias componentes. Las más importantes son:\n",
    "\n",
    "*   *cluster:* un vector de enteros (1:k) que indica el cluster al que pertenece cada punto\n",
    "*   *centers:* una matriz con los centros de los clusters\n",
    "*   *totss:* suma total de cuadrados\n",
    "*   *withinss:* vector de la suma de cuadrados dentro del cluster, una componente por cluster\n",
    "*   *tot.withinss:* suma total de cuadrados dentro del cluster (suma de los valores del vector *withinss*)\n",
    "*   *betweenss:* suma de cuadrados entre clusters (totss - tot.withinss)\n",
    "*   *size:* número de puntos en cada cluster\n",
    "\n",
    "\n",
    "\n",
    "\n",
    "\n",
    "\n",
    "\n"
   ]
  },
  {
   "cell_type": "code",
   "execution_count": 12,
   "metadata": {
    "colab": {
     "base_uri": "https://localhost:8080/",
     "height": 0
    },
    "executionInfo": {
     "elapsed": 643055,
     "status": "ok",
     "timestamp": 1615553425950,
     "user": {
      "displayName": "José Marcos Moreno Vega",
      "photoUrl": "",
      "userId": "03518730894987271919"
     },
     "user_tz": 0
    },
    "id": "1TQfkRHiFd1E",
    "outputId": "97e45d12-141c-493c-bbb9-851138304cb0"
   },
   "outputs": [
    {
     "data": {
      "text/plain": [
       "K-means clustering with 3 clusters of sizes 51, 41, 58\n",
       "\n",
       "Cluster means:\n",
       "  petal.length sepal.length\n",
       "1     1.492157     5.007843\n",
       "2     5.678049     6.839024\n",
       "3     4.393103     5.874138\n",
       "\n",
       "Clustering vector:\n",
       "  [1] 1 1 1 1 1 1 1 1 1 1 1 1 1 1 1 1 1 1 1 1 1 1 1 1 1 1 1 1 1 1 1 1 1 1 1 1 1\n",
       " [38] 1 1 1 1 1 1 1 1 1 1 1 1 1 2 3 2 3 3 3 3 3 3 3 3 3 3 3 3 3 3 3 3 3 3 3 3 3\n",
       " [75] 3 3 2 2 3 3 3 3 3 3 3 3 3 3 3 3 3 3 3 3 3 3 3 3 1 3 2 3 2 2 2 2 3 2 2 2 2\n",
       "[112] 2 2 3 3 2 2 2 2 3 2 3 2 3 2 2 3 3 2 2 2 2 2 2 2 2 2 2 3 2 2 2 3 2 2 2 3 2\n",
       "[149] 2 3\n",
       "\n",
       "Within cluster sum of squares by cluster:\n",
       "[1]  9.893725 20.407805 23.508448\n",
       " (between_SS / total_SS =  90.5 %)\n",
       "\n",
       "Available components:\n",
       "\n",
       "[1] \"cluster\"      \"centers\"      \"totss\"        \"withinss\"     \"tot.withinss\"\n",
       "[6] \"betweenss\"    \"size\"         \"iter\"         \"ifault\"      "
      ]
     },
     "metadata": {},
     "output_type": "display_data"
    }
   ],
   "source": [
    "km.res <- kmeans(df, centers = 3, nstart = 10)\n",
    "km.res"
   ]
  },
  {
   "cell_type": "markdown",
   "metadata": {
    "id": "Ri60mZp0-Wsk"
   },
   "source": [
    "Dibujamos en unos ejes de coordenadas, usando la función *fviz_cluster* del paquete ***factoextra***, los clusters identificados por el algoritmo kmeans."
   ]
  },
  {
   "cell_type": "code",
   "execution_count": 13,
   "metadata": {
    "colab": {
     "base_uri": "https://localhost:8080/",
     "height": 437
    },
    "executionInfo": {
     "elapsed": 644327,
     "status": "ok",
     "timestamp": 1615553427227,
     "user": {
      "displayName": "José Marcos Moreno Vega",
      "photoUrl": "",
      "userId": "03518730894987271919"
     },
     "user_tz": 0
    },
    "id": "WYGd7sft2lXU",
    "outputId": "8bd54d75-d62a-4966-9931-42d4a8693e50"
   },
   "outputs": [
    {
     "data": {
      "image/png": "[encoded data removed]",
      "text/plain": [
       "plot without title"
      ]
     },
     "metadata": {
      "image/png": {
       "height": 420,
       "width": 420
      }
     },
     "output_type": "display_data"
    }
   ],
   "source": [
    "fviz_cluster(km.res, df, geom = \"point\", ellipse = FALSE, pointsize = 2, ylab = \"Longitud del sépalo\", xlab = \"Longitud del pétalo\", stand = FALSE)"
   ]
  },
  {
   "cell_type": "markdown",
   "metadata": {
    "id": "bvRNPWh2DMtV"
   },
   "source": [
    "**Determinando el valor apropiado de k**\n",
    "\n",
    "Existen varios procedimientos para determinar el valor apropiado de k. El método *elbow* (codo) consta de los siguientes pasos:\n",
    "\n",
    "\n",
    "1.   Calcular el agrupamiento para diferentes valores de k.\n",
    "2.   Para cada valor de k, calcular la suma de cuadrados dentro de los clustes (withins).\n",
    "3.   Dibujar en unos ejes de coordenadas el valor de *withins* correspondiente a cada valor de k.\n",
    "4.   Identificar el valor de k en el que se produce un cambio en la curva.\n",
    "\n",
    "\n",
    "\n"
   ]
  },
  {
   "cell_type": "code",
   "execution_count": 14,
   "metadata": {
    "colab": {
     "base_uri": "https://localhost:8080/",
     "height": 437
    },
    "executionInfo": {
     "elapsed": 644323,
     "status": "ok",
     "timestamp": 1615553427228,
     "user": {
      "displayName": "José Marcos Moreno Vega",
      "photoUrl": "",
      "userId": "03518730894987271919"
     },
     "user_tz": 0
    },
    "id": "36o5CPf7Cpjr",
    "outputId": "13297d0b-2786-4a95-b69d-47600a9c54e4"
   },
   "outputs": [
    {
     "data": {
      "image/png": "[encoded data removed]",
      "text/plain": [
       "Plot with title “Selección de k por el método Elbow”"
      ]
     },
     "metadata": {
      "image/png": {
       "height": 420,
       "width": 420
      }
     },
     "output_type": "display_data"
    }
   ],
   "source": [
    "information <- rep(0, 10)\n",
    "for (i in 1:10){\n",
    "   KM = kmeans(df, i, nstart = 10)\n",
    "   information[i] = KM$tot.withinss\n",
    "}\n",
    "plot(information~seq(1:10), type=\"b\", pch=16, col=4, ylab=\"Información retenida\", lwd = 2,\n",
    "     xlab=\"Número de clusters\", main=\"Selección de k por el método Elbow\")"
   ]
  },
  {
   "cell_type": "markdown",
   "metadata": {
    "id": "IElQk1c7QOzj"
   },
   "source": [
    "Un procedimiento similar dibuja el ratio *betweens/totss*, conocido como información retenida por el agrupamiento, y selecciona el valor de k en el que se estabiliza la curva."
   ]
  },
  {
   "cell_type": "code",
   "execution_count": 15,
   "metadata": {
    "colab": {
     "base_uri": "https://localhost:8080/",
     "height": 437
    },
    "executionInfo": {
     "elapsed": 644319,
     "status": "ok",
     "timestamp": 1615553427229,
     "user": {
      "displayName": "José Marcos Moreno Vega",
      "photoUrl": "",
      "userId": "03518730894987271919"
     },
     "user_tz": 0
    },
    "id": "q0DUVn1wOAL9",
    "outputId": "57088c3f-bc8b-4c5c-ea97-73ad5b598d16"
   },
   "outputs": [
    {
     "data": {
      "image/png": "[encoded data removed]",
      "text/plain": [
       "Plot with title “Selección de k por el método Elbow”"
      ]
     },
     "metadata": {
      "image/png": {
       "height": 420,
       "width": 420
      }
     },
     "output_type": "display_data"
    }
   ],
   "source": [
    "information <- rep(0, 10)\n",
    "for (i in 1:10){\n",
    "   KM = kmeans(df, i, nstart = 10)\n",
    "   information[i] = KM$betweenss/KM$totss\n",
    "}\n",
    "plot(information ~ seq(1:10), type=\"b\", pch=16, col = 4, ylab=\"Información retenida\", lwd = 2,\n",
    "     xlab=\"Número de clusters\", main=\"Selección de k por el método Elbow\")"
   ]
  },
  {
   "cell_type": "markdown",
   "metadata": {
    "id": "03ym9m9xRCfS"
   },
   "source": [
    "En ambos casos, el valor apropiado de k es 3 (o 4)."
   ]
  },
  {
   "cell_type": "markdown",
   "metadata": {
    "id": "Z8UyRipiU5TU"
   },
   "source": [
    "# **Tareas**\n",
    "\n",
    "1.   Realiza un análisis similar al anterior usando las variables petal.width y sepal.width ¿Qué agrupamiento te parece mejor? ¿El que usa las variables petal.length y sepal.length o el que emplea petal.width y sepal.width? ¿Por qué?\n",
    "2.   Identifica un \"buen\" agrupamiento de los estados de EEUU usando las variables disponibles en el fichero USArrests.csv\n",
    "3.   ¿Qué variables has usado? ¿Por qué?\n",
    "4.   Describe los clusters obtenidos\n",
    "\n"
   ]
  },
  {
   "cell_type": "code",
   "execution_count": 21,
   "metadata": {
    "scrolled": false
   },
   "outputs": [
    {
     "data": {
      "text/html": [
       "<table class=\"dataframe\">\n",
       "<caption>A data.frame: 150 × 2</caption>\n",
       "<thead>\n",
       "\t<tr><th scope=col>petal.width</th><th scope=col>sepal.width</th></tr>\n",
       "\t<tr><th scope=col>&lt;dbl&gt;</th><th scope=col>&lt;dbl&gt;</th></tr>\n",
       "</thead>\n",
       "<tbody>\n",
       "\t<tr><td>0.2</td><td>3.5</td></tr>\n",
       "\t<tr><td>0.2</td><td>3.0</td></tr>\n",
       "\t<tr><td>0.2</td><td>3.2</td></tr>\n",
       "\t<tr><td>0.2</td><td>3.1</td></tr>\n",
       "\t<tr><td>0.2</td><td>3.6</td></tr>\n",
       "\t<tr><td>0.4</td><td>3.9</td></tr>\n",
       "\t<tr><td>0.3</td><td>3.4</td></tr>\n",
       "\t<tr><td>0.2</td><td>3.4</td></tr>\n",
       "\t<tr><td>0.2</td><td>2.9</td></tr>\n",
       "\t<tr><td>0.1</td><td>3.1</td></tr>\n",
       "\t<tr><td>0.2</td><td>3.7</td></tr>\n",
       "\t<tr><td>0.2</td><td>3.4</td></tr>\n",
       "\t<tr><td>0.1</td><td>3.0</td></tr>\n",
       "\t<tr><td>0.1</td><td>3.0</td></tr>\n",
       "\t<tr><td>0.2</td><td>4.0</td></tr>\n",
       "\t<tr><td>0.4</td><td>4.4</td></tr>\n",
       "\t<tr><td>0.4</td><td>3.9</td></tr>\n",
       "\t<tr><td>0.3</td><td>3.5</td></tr>\n",
       "\t<tr><td>0.3</td><td>3.8</td></tr>\n",
       "\t<tr><td>0.3</td><td>3.8</td></tr>\n",
       "\t<tr><td>0.2</td><td>3.4</td></tr>\n",
       "\t<tr><td>0.4</td><td>3.7</td></tr>\n",
       "\t<tr><td>0.2</td><td>3.6</td></tr>\n",
       "\t<tr><td>0.5</td><td>3.3</td></tr>\n",
       "\t<tr><td>0.2</td><td>3.4</td></tr>\n",
       "\t<tr><td>0.2</td><td>3.0</td></tr>\n",
       "\t<tr><td>0.4</td><td>3.4</td></tr>\n",
       "\t<tr><td>0.2</td><td>3.5</td></tr>\n",
       "\t<tr><td>0.2</td><td>3.4</td></tr>\n",
       "\t<tr><td>0.2</td><td>3.2</td></tr>\n",
       "\t<tr><td>⋮</td><td>⋮</td></tr>\n",
       "\t<tr><td>2.3</td><td>3.2</td></tr>\n",
       "\t<tr><td>2.0</td><td>2.8</td></tr>\n",
       "\t<tr><td>2.0</td><td>2.8</td></tr>\n",
       "\t<tr><td>1.8</td><td>2.7</td></tr>\n",
       "\t<tr><td>2.1</td><td>3.3</td></tr>\n",
       "\t<tr><td>1.8</td><td>3.2</td></tr>\n",
       "\t<tr><td>1.8</td><td>2.8</td></tr>\n",
       "\t<tr><td>1.8</td><td>3.0</td></tr>\n",
       "\t<tr><td>2.1</td><td>2.8</td></tr>\n",
       "\t<tr><td>1.6</td><td>3.0</td></tr>\n",
       "\t<tr><td>1.9</td><td>2.8</td></tr>\n",
       "\t<tr><td>2.0</td><td>3.8</td></tr>\n",
       "\t<tr><td>2.2</td><td>2.8</td></tr>\n",
       "\t<tr><td>1.5</td><td>2.8</td></tr>\n",
       "\t<tr><td>1.4</td><td>2.6</td></tr>\n",
       "\t<tr><td>2.3</td><td>3.0</td></tr>\n",
       "\t<tr><td>2.4</td><td>3.4</td></tr>\n",
       "\t<tr><td>1.8</td><td>3.1</td></tr>\n",
       "\t<tr><td>1.8</td><td>3.0</td></tr>\n",
       "\t<tr><td>2.1</td><td>3.1</td></tr>\n",
       "\t<tr><td>2.4</td><td>3.1</td></tr>\n",
       "\t<tr><td>2.3</td><td>3.1</td></tr>\n",
       "\t<tr><td>1.9</td><td>2.7</td></tr>\n",
       "\t<tr><td>2.3</td><td>3.2</td></tr>\n",
       "\t<tr><td>2.5</td><td>3.3</td></tr>\n",
       "\t<tr><td>2.3</td><td>3.0</td></tr>\n",
       "\t<tr><td>1.9</td><td>2.5</td></tr>\n",
       "\t<tr><td>2.0</td><td>3.0</td></tr>\n",
       "\t<tr><td>2.3</td><td>3.4</td></tr>\n",
       "\t<tr><td>1.8</td><td>3.0</td></tr>\n",
       "</tbody>\n",
       "</table>\n"
      ],
      "text/latex": [
       "A data.frame: 150 × 2\n",
       "\\begin{tabular}{ll}\n",
       " petal.width & sepal.width\\\\\n",
       " <dbl> & <dbl>\\\\\n",
       "\\hline\n",
       "\t 0.2 & 3.5\\\\\n",
       "\t 0.2 & 3.0\\\\\n",
       "\t 0.2 & 3.2\\\\\n",
       "\t 0.2 & 3.1\\\\\n",
       "\t 0.2 & 3.6\\\\\n",
       "\t 0.4 & 3.9\\\\\n",
       "\t 0.3 & 3.4\\\\\n",
       "\t 0.2 & 3.4\\\\\n",
       "\t 0.2 & 2.9\\\\\n",
       "\t 0.1 & 3.1\\\\\n",
       "\t 0.2 & 3.7\\\\\n",
       "\t 0.2 & 3.4\\\\\n",
       "\t 0.1 & 3.0\\\\\n",
       "\t 0.1 & 3.0\\\\\n",
       "\t 0.2 & 4.0\\\\\n",
       "\t 0.4 & 4.4\\\\\n",
       "\t 0.4 & 3.9\\\\\n",
       "\t 0.3 & 3.5\\\\\n",
       "\t 0.3 & 3.8\\\\\n",
       "\t 0.3 & 3.8\\\\\n",
       "\t 0.2 & 3.4\\\\\n",
       "\t 0.4 & 3.7\\\\\n",
       "\t 0.2 & 3.6\\\\\n",
       "\t 0.5 & 3.3\\\\\n",
       "\t 0.2 & 3.4\\\\\n",
       "\t 0.2 & 3.0\\\\\n",
       "\t 0.4 & 3.4\\\\\n",
       "\t 0.2 & 3.5\\\\\n",
       "\t 0.2 & 3.4\\\\\n",
       "\t 0.2 & 3.2\\\\\n",
       "\t ⋮ & ⋮\\\\\n",
       "\t 2.3 & 3.2\\\\\n",
       "\t 2.0 & 2.8\\\\\n",
       "\t 2.0 & 2.8\\\\\n",
       "\t 1.8 & 2.7\\\\\n",
       "\t 2.1 & 3.3\\\\\n",
       "\t 1.8 & 3.2\\\\\n",
       "\t 1.8 & 2.8\\\\\n",
       "\t 1.8 & 3.0\\\\\n",
       "\t 2.1 & 2.8\\\\\n",
       "\t 1.6 & 3.0\\\\\n",
       "\t 1.9 & 2.8\\\\\n",
       "\t 2.0 & 3.8\\\\\n",
       "\t 2.2 & 2.8\\\\\n",
       "\t 1.5 & 2.8\\\\\n",
       "\t 1.4 & 2.6\\\\\n",
       "\t 2.3 & 3.0\\\\\n",
       "\t 2.4 & 3.4\\\\\n",
       "\t 1.8 & 3.1\\\\\n",
       "\t 1.8 & 3.0\\\\\n",
       "\t 2.1 & 3.1\\\\\n",
       "\t 2.4 & 3.1\\\\\n",
       "\t 2.3 & 3.1\\\\\n",
       "\t 1.9 & 2.7\\\\\n",
       "\t 2.3 & 3.2\\\\\n",
       "\t 2.5 & 3.3\\\\\n",
       "\t 2.3 & 3.0\\\\\n",
       "\t 1.9 & 2.5\\\\\n",
       "\t 2.0 & 3.0\\\\\n",
       "\t 2.3 & 3.4\\\\\n",
       "\t 1.8 & 3.0\\\\\n",
       "\\end{tabular}\n"
      ],
      "text/markdown": [
       "\n",
       "A data.frame: 150 × 2\n",
       "\n",
       "| petal.width &lt;dbl&gt; | sepal.width &lt;dbl&gt; |\n",
       "|---|---|\n",
       "| 0.2 | 3.5 |\n",
       "| 0.2 | 3.0 |\n",
       "| 0.2 | 3.2 |\n",
       "| 0.2 | 3.1 |\n",
       "| 0.2 | 3.6 |\n",
       "| 0.4 | 3.9 |\n",
       "| 0.3 | 3.4 |\n",
       "| 0.2 | 3.4 |\n",
       "| 0.2 | 2.9 |\n",
       "| 0.1 | 3.1 |\n",
       "| 0.2 | 3.7 |\n",
       "| 0.2 | 3.4 |\n",
       "| 0.1 | 3.0 |\n",
       "| 0.1 | 3.0 |\n",
       "| 0.2 | 4.0 |\n",
       "| 0.4 | 4.4 |\n",
       "| 0.4 | 3.9 |\n",
       "| 0.3 | 3.5 |\n",
       "| 0.3 | 3.8 |\n",
       "| 0.3 | 3.8 |\n",
       "| 0.2 | 3.4 |\n",
       "| 0.4 | 3.7 |\n",
       "| 0.2 | 3.6 |\n",
       "| 0.5 | 3.3 |\n",
       "| 0.2 | 3.4 |\n",
       "| 0.2 | 3.0 |\n",
       "| 0.4 | 3.4 |\n",
       "| 0.2 | 3.5 |\n",
       "| 0.2 | 3.4 |\n",
       "| 0.2 | 3.2 |\n",
       "| ⋮ | ⋮ |\n",
       "| 2.3 | 3.2 |\n",
       "| 2.0 | 2.8 |\n",
       "| 2.0 | 2.8 |\n",
       "| 1.8 | 2.7 |\n",
       "| 2.1 | 3.3 |\n",
       "| 1.8 | 3.2 |\n",
       "| 1.8 | 2.8 |\n",
       "| 1.8 | 3.0 |\n",
       "| 2.1 | 2.8 |\n",
       "| 1.6 | 3.0 |\n",
       "| 1.9 | 2.8 |\n",
       "| 2.0 | 3.8 |\n",
       "| 2.2 | 2.8 |\n",
       "| 1.5 | 2.8 |\n",
       "| 1.4 | 2.6 |\n",
       "| 2.3 | 3.0 |\n",
       "| 2.4 | 3.4 |\n",
       "| 1.8 | 3.1 |\n",
       "| 1.8 | 3.0 |\n",
       "| 2.1 | 3.1 |\n",
       "| 2.4 | 3.1 |\n",
       "| 2.3 | 3.1 |\n",
       "| 1.9 | 2.7 |\n",
       "| 2.3 | 3.2 |\n",
       "| 2.5 | 3.3 |\n",
       "| 2.3 | 3.0 |\n",
       "| 1.9 | 2.5 |\n",
       "| 2.0 | 3.0 |\n",
       "| 2.3 | 3.4 |\n",
       "| 1.8 | 3.0 |\n",
       "\n"
      ],
      "text/plain": [
       "    petal.width sepal.width\n",
       "1   0.2         3.5        \n",
       "2   0.2         3.0        \n",
       "3   0.2         3.2        \n",
       "4   0.2         3.1        \n",
       "5   0.2         3.6        \n",
       "6   0.4         3.9        \n",
       "7   0.3         3.4        \n",
       "8   0.2         3.4        \n",
       "9   0.2         2.9        \n",
       "10  0.1         3.1        \n",
       "11  0.2         3.7        \n",
       "12  0.2         3.4        \n",
       "13  0.1         3.0        \n",
       "14  0.1         3.0        \n",
       "15  0.2         4.0        \n",
       "16  0.4         4.4        \n",
       "17  0.4         3.9        \n",
       "18  0.3         3.5        \n",
       "19  0.3         3.8        \n",
       "20  0.3         3.8        \n",
       "21  0.2         3.4        \n",
       "22  0.4         3.7        \n",
       "23  0.2         3.6        \n",
       "24  0.5         3.3        \n",
       "25  0.2         3.4        \n",
       "26  0.2         3.0        \n",
       "27  0.4         3.4        \n",
       "28  0.2         3.5        \n",
       "29  0.2         3.4        \n",
       "30  0.2         3.2        \n",
       "⋮   ⋮           ⋮          \n",
       "121 2.3         3.2        \n",
       "122 2.0         2.8        \n",
       "123 2.0         2.8        \n",
       "124 1.8         2.7        \n",
       "125 2.1         3.3        \n",
       "126 1.8         3.2        \n",
       "127 1.8         2.8        \n",
       "128 1.8         3.0        \n",
       "129 2.1         2.8        \n",
       "130 1.6         3.0        \n",
       "131 1.9         2.8        \n",
       "132 2.0         3.8        \n",
       "133 2.2         2.8        \n",
       "134 1.5         2.8        \n",
       "135 1.4         2.6        \n",
       "136 2.3         3.0        \n",
       "137 2.4         3.4        \n",
       "138 1.8         3.1        \n",
       "139 1.8         3.0        \n",
       "140 2.1         3.1        \n",
       "141 2.4         3.1        \n",
       "142 2.3         3.1        \n",
       "143 1.9         2.7        \n",
       "144 2.3         3.2        \n",
       "145 2.5         3.3        \n",
       "146 2.3         3.0        \n",
       "147 1.9         2.5        \n",
       "148 2.0         3.0        \n",
       "149 2.3         3.4        \n",
       "150 1.8         3.0        "
      ]
     },
     "metadata": {},
     "output_type": "display_data"
    },
    {
     "data": {
      "text/plain": [
       "K-means clustering with 3 clusters of sizes 48, 49, 53\n",
       "\n",
       "Cluster means:\n",
       "  petal.width sepal.width\n",
       "1    2.052083    3.041667\n",
       "2    0.244898    3.451020\n",
       "3    1.309434    2.707547\n",
       "\n",
       "Clustering vector:\n",
       "  [1] 2 2 2 2 2 2 2 2 2 2 2 2 2 2 2 2 2 2 2 2 2 2 2 2 2 2 2 2 2 2 2 2 2 2 2 2 2\n",
       " [38] 2 2 2 2 3 2 2 2 2 2 2 2 2 3 3 3 3 3 3 1 3 3 3 3 3 3 3 3 3 3 3 3 3 1 3 3 3\n",
       " [75] 3 3 3 1 3 3 3 3 3 3 3 1 3 3 3 3 3 3 3 3 3 3 3 3 3 3 1 1 1 1 1 1 3 1 3 1 1\n",
       "[112] 1 1 1 1 1 1 1 1 3 1 1 1 1 1 1 1 1 1 3 1 1 1 3 3 1 1 1 1 1 1 1 1 1 1 1 1 1\n",
       "[149] 1 1\n",
       "\n",
       "Within cluster sum of squares by cluster:\n",
       "[1] 6.896458 6.283673 7.422264\n",
       " (between_SS / total_SS =  82.1 %)\n",
       "\n",
       "Available components:\n",
       "\n",
       "[1] \"cluster\"      \"centers\"      \"totss\"        \"withinss\"     \"tot.withinss\"\n",
       "[6] \"betweenss\"    \"size\"         \"iter\"         \"ifault\"      "
      ]
     },
     "metadata": {},
     "output_type": "display_data"
    }
   ],
   "source": [
    "# Task 1 -  Perform a similar analysis to the previous one using the \n",
    "# variables petal.width and sepal.width. Which grouping do you think is \n",
    "# best? The one that uses the variables petal.length and sepal.length \n",
    "# or the one that uses petal.width and sepal.width? Why?\n",
    "\n",
    "df_task1 <- select(mydata, petal.width, sepal.width)\n",
    "df_task1\n",
    "\n",
    "km.res_task1 <- kmeans(df_task1, centers = 3, nstart = 10)\n",
    "km.res_task1"
   ]
  },
  {
   "cell_type": "markdown",
   "metadata": {},
   "source": [
    "The original analysis using petal.length and sepal.length reached got sum of squares by cluster to be between_SS/total_SS = 90.5% while our analysis using petal.width and sepal.width only gets 82.1%. This is a sign of information loss, since there are a larger sum of squares and more sparse cluster."
   ]
  },
  {
   "cell_type": "code",
   "execution_count": 24,
   "metadata": {},
   "outputs": [
    {
     "data": {
      "image/png": "[encoded data removed]",
      "text/plain": [
       "plot without title"
      ]
     },
     "metadata": {
      "image/png": {
       "height": 420,
       "width": 420
      }
     },
     "output_type": "display_data"
    }
   ],
   "source": [
    "fviz_cluster(km.res_task1,df_task1,geom=\"point\",ellipse=FALSE,pointsize=2, ylab = \"Sepal width\", xlab = \"Petal width\", stand = FALSE)"
   ]
  },
  {
   "cell_type": "code",
   "execution_count": 30,
   "metadata": {},
   "outputs": [
    {
     "data": {
      "image/png": "[encoded data removed]",
      "text/plain": [
       "Plot with title “Selection of k using elbow method”"
      ]
     },
     "metadata": {
      "image/png": {
       "height": 420,
       "width": 420
      }
     },
     "output_type": "display_data"
    }
   ],
   "source": [
    "information <- rep(0, 10)\n",
    "for (i in 1:10){\n",
    "KM = kmeans(df_task1, i, nstart = 10)\n",
    "information[i] = KM$tot.withinss\n",
    "}\n",
    "plot(information~seq(1:10), type=\"b\", pch=16, col=4, ylab=\"Information within\", lwd = 2,\n",
    "xlab=\"Number of clusters\", main=\"Selection of k using the Elbow-method\")"
   ]
  },
  {
   "cell_type": "code",
   "execution_count": 31,
   "metadata": {},
   "outputs": [
    {
     "data": {
      "image/png": "[encoded data removed]",
      "text/plain": [
       "Plot with title “Selection of k using the Elbow-method”"
      ]
     },
     "metadata": {
      "image/png": {
       "height": 420,
       "width": 420
      }
     },
     "output_type": "display_data"
    }
   ],
   "source": [
    "information <- rep(0, 10)\n",
    "for (i in 1:10){\n",
    "KM = kmeans(df_task1, i, nstart = 10)\n",
    "information[i] = KM$betweenss/KM$totss\n",
    "}\n",
    "plot(information ~ seq(1:10), type=\"b\", pch=16, col = 4, ylab=\"Information within\", lwd = 2,\n",
    "xlab=\"Number of clusters\", main=\"Selection of k using the Elbow-method\")"
   ]
  },
  {
   "cell_type": "code",
   "execution_count": 37,
   "metadata": {},
   "outputs": [
    {
     "ename": "ERROR",
     "evalue": "Error in clusplot(df_task1, km_task1$cluser, color = TRUE, shade = TRUE, : could not find function \"clusplot\"\n",
     "output_type": "error",
     "traceback": [
      "Error in clusplot(df_task1, km_task1$cluser, color = TRUE, shade = TRUE, : could not find function \"clusplot\"\nTraceback:\n"
     ]
    }
   ],
   "source": [
    "clusplot(df_task1, km_task1$cluser, color=TRUE, shade=TRUE, labels=2, lines=0)"
   ]
  },
  {
   "cell_type": "code",
   "execution_count": 36,
   "metadata": {
    "scrolled": true
   },
   "outputs": [
    {
     "data": {
      "text/html": [
       "<table class=\"dataframe\">\n",
       "<caption>A data.frame: 50 × 4</caption>\n",
       "<thead>\n",
       "\t<tr><th></th><th scope=col>Murder</th><th scope=col>Assault</th><th scope=col>UrbanPop</th><th scope=col>Rape</th></tr>\n",
       "\t<tr><th></th><th scope=col>&lt;dbl&gt;</th><th scope=col>&lt;int&gt;</th><th scope=col>&lt;int&gt;</th><th scope=col>&lt;dbl&gt;</th></tr>\n",
       "</thead>\n",
       "<tbody>\n",
       "\t<tr><th scope=row>Alabama</th><td>13.2</td><td>236</td><td>58</td><td>21.2</td></tr>\n",
       "\t<tr><th scope=row>Alaska</th><td>10.0</td><td>263</td><td>48</td><td>44.5</td></tr>\n",
       "\t<tr><th scope=row>Arizona</th><td> 8.1</td><td>294</td><td>80</td><td>31.0</td></tr>\n",
       "\t<tr><th scope=row>Arkansas</th><td> 8.8</td><td>190</td><td>50</td><td>19.5</td></tr>\n",
       "\t<tr><th scope=row>California</th><td> 9.0</td><td>276</td><td>91</td><td>40.6</td></tr>\n",
       "\t<tr><th scope=row>Colorado</th><td> 7.9</td><td>204</td><td>78</td><td>38.7</td></tr>\n",
       "\t<tr><th scope=row>Connecticut</th><td> 3.3</td><td>110</td><td>77</td><td>11.1</td></tr>\n",
       "\t<tr><th scope=row>Delaware</th><td> 5.9</td><td>238</td><td>72</td><td>15.8</td></tr>\n",
       "\t<tr><th scope=row>Florida</th><td>15.4</td><td>335</td><td>80</td><td>31.9</td></tr>\n",
       "\t<tr><th scope=row>Georgia</th><td>17.4</td><td>211</td><td>60</td><td>25.8</td></tr>\n",
       "\t<tr><th scope=row>Hawaii</th><td> 5.3</td><td> 46</td><td>83</td><td>20.2</td></tr>\n",
       "\t<tr><th scope=row>Idaho</th><td> 2.6</td><td>120</td><td>54</td><td>14.2</td></tr>\n",
       "\t<tr><th scope=row>Illinois</th><td>10.4</td><td>249</td><td>83</td><td>24.0</td></tr>\n",
       "\t<tr><th scope=row>Indiana</th><td> 7.2</td><td>113</td><td>65</td><td>21.0</td></tr>\n",
       "\t<tr><th scope=row>Iowa</th><td> 2.2</td><td> 56</td><td>57</td><td>11.3</td></tr>\n",
       "\t<tr><th scope=row>Kansas</th><td> 6.0</td><td>115</td><td>66</td><td>18.0</td></tr>\n",
       "\t<tr><th scope=row>Kentucky</th><td> 9.7</td><td>109</td><td>52</td><td>16.3</td></tr>\n",
       "\t<tr><th scope=row>Louisiana</th><td>15.4</td><td>249</td><td>66</td><td>22.2</td></tr>\n",
       "\t<tr><th scope=row>Maine</th><td> 2.1</td><td> 83</td><td>51</td><td> 7.8</td></tr>\n",
       "\t<tr><th scope=row>Maryland</th><td>11.3</td><td>300</td><td>67</td><td>27.8</td></tr>\n",
       "\t<tr><th scope=row>Massachusetts</th><td> 4.4</td><td>149</td><td>85</td><td>16.3</td></tr>\n",
       "\t<tr><th scope=row>Michigan</th><td>12.1</td><td>255</td><td>74</td><td>35.1</td></tr>\n",
       "\t<tr><th scope=row>Minnesota</th><td> 2.7</td><td> 72</td><td>66</td><td>14.9</td></tr>\n",
       "\t<tr><th scope=row>Mississippi</th><td>16.1</td><td>259</td><td>44</td><td>17.1</td></tr>\n",
       "\t<tr><th scope=row>Missouri</th><td> 9.0</td><td>178</td><td>70</td><td>28.2</td></tr>\n",
       "\t<tr><th scope=row>Montana</th><td> 6.0</td><td>109</td><td>53</td><td>16.4</td></tr>\n",
       "\t<tr><th scope=row>Nebraska</th><td> 4.3</td><td>102</td><td>62</td><td>16.5</td></tr>\n",
       "\t<tr><th scope=row>Nevada</th><td>12.2</td><td>252</td><td>81</td><td>46.0</td></tr>\n",
       "\t<tr><th scope=row>New Hampshire</th><td> 2.1</td><td> 57</td><td>56</td><td> 9.5</td></tr>\n",
       "\t<tr><th scope=row>New Jersey</th><td> 7.4</td><td>159</td><td>89</td><td>18.8</td></tr>\n",
       "\t<tr><th scope=row>New Mexico</th><td>11.4</td><td>285</td><td>70</td><td>32.1</td></tr>\n",
       "\t<tr><th scope=row>New York</th><td>11.1</td><td>254</td><td>86</td><td>26.1</td></tr>\n",
       "\t<tr><th scope=row>North Carolina</th><td>13.0</td><td>337</td><td>45</td><td>16.1</td></tr>\n",
       "\t<tr><th scope=row>North Dakota</th><td> 0.8</td><td> 45</td><td>44</td><td> 7.3</td></tr>\n",
       "\t<tr><th scope=row>Ohio</th><td> 7.3</td><td>120</td><td>75</td><td>21.4</td></tr>\n",
       "\t<tr><th scope=row>Oklahoma</th><td> 6.6</td><td>151</td><td>68</td><td>20.0</td></tr>\n",
       "\t<tr><th scope=row>Oregon</th><td> 4.9</td><td>159</td><td>67</td><td>29.3</td></tr>\n",
       "\t<tr><th scope=row>Pennsylvania</th><td> 6.3</td><td>106</td><td>72</td><td>14.9</td></tr>\n",
       "\t<tr><th scope=row>Rhode Island</th><td> 3.4</td><td>174</td><td>87</td><td> 8.3</td></tr>\n",
       "\t<tr><th scope=row>South Carolina</th><td>14.4</td><td>279</td><td>48</td><td>22.5</td></tr>\n",
       "\t<tr><th scope=row>South Dakota</th><td> 3.8</td><td> 86</td><td>45</td><td>12.8</td></tr>\n",
       "\t<tr><th scope=row>Tennessee</th><td>13.2</td><td>188</td><td>59</td><td>26.9</td></tr>\n",
       "\t<tr><th scope=row>Texas</th><td>12.7</td><td>201</td><td>80</td><td>25.5</td></tr>\n",
       "\t<tr><th scope=row>Utah</th><td> 3.2</td><td>120</td><td>80</td><td>22.9</td></tr>\n",
       "\t<tr><th scope=row>Vermont</th><td> 2.2</td><td> 48</td><td>32</td><td>11.2</td></tr>\n",
       "\t<tr><th scope=row>Virginia</th><td> 8.5</td><td>156</td><td>63</td><td>20.7</td></tr>\n",
       "\t<tr><th scope=row>Washington</th><td> 4.0</td><td>145</td><td>73</td><td>26.2</td></tr>\n",
       "\t<tr><th scope=row>West Virginia</th><td> 5.7</td><td> 81</td><td>39</td><td> 9.3</td></tr>\n",
       "\t<tr><th scope=row>Wisconsin</th><td> 2.6</td><td> 53</td><td>66</td><td>10.8</td></tr>\n",
       "\t<tr><th scope=row>Wyoming</th><td> 6.8</td><td>161</td><td>60</td><td>15.6</td></tr>\n",
       "</tbody>\n",
       "</table>\n"
      ],
      "text/latex": [
       "A data.frame: 50 × 4\n",
       "\\begin{tabular}{r|llll}\n",
       "  & Murder & Assault & UrbanPop & Rape\\\\\n",
       "  & <dbl> & <int> & <int> & <dbl>\\\\\n",
       "\\hline\n",
       "\tAlabama & 13.2 & 236 & 58 & 21.2\\\\\n",
       "\tAlaska & 10.0 & 263 & 48 & 44.5\\\\\n",
       "\tArizona &  8.1 & 294 & 80 & 31.0\\\\\n",
       "\tArkansas &  8.8 & 190 & 50 & 19.5\\\\\n",
       "\tCalifornia &  9.0 & 276 & 91 & 40.6\\\\\n",
       "\tColorado &  7.9 & 204 & 78 & 38.7\\\\\n",
       "\tConnecticut &  3.3 & 110 & 77 & 11.1\\\\\n",
       "\tDelaware &  5.9 & 238 & 72 & 15.8\\\\\n",
       "\tFlorida & 15.4 & 335 & 80 & 31.9\\\\\n",
       "\tGeorgia & 17.4 & 211 & 60 & 25.8\\\\\n",
       "\tHawaii &  5.3 &  46 & 83 & 20.2\\\\\n",
       "\tIdaho &  2.6 & 120 & 54 & 14.2\\\\\n",
       "\tIllinois & 10.4 & 249 & 83 & 24.0\\\\\n",
       "\tIndiana &  7.2 & 113 & 65 & 21.0\\\\\n",
       "\tIowa &  2.2 &  56 & 57 & 11.3\\\\\n",
       "\tKansas &  6.0 & 115 & 66 & 18.0\\\\\n",
       "\tKentucky &  9.7 & 109 & 52 & 16.3\\\\\n",
       "\tLouisiana & 15.4 & 249 & 66 & 22.2\\\\\n",
       "\tMaine &  2.1 &  83 & 51 &  7.8\\\\\n",
       "\tMaryland & 11.3 & 300 & 67 & 27.8\\\\\n",
       "\tMassachusetts &  4.4 & 149 & 85 & 16.3\\\\\n",
       "\tMichigan & 12.1 & 255 & 74 & 35.1\\\\\n",
       "\tMinnesota &  2.7 &  72 & 66 & 14.9\\\\\n",
       "\tMississippi & 16.1 & 259 & 44 & 17.1\\\\\n",
       "\tMissouri &  9.0 & 178 & 70 & 28.2\\\\\n",
       "\tMontana &  6.0 & 109 & 53 & 16.4\\\\\n",
       "\tNebraska &  4.3 & 102 & 62 & 16.5\\\\\n",
       "\tNevada & 12.2 & 252 & 81 & 46.0\\\\\n",
       "\tNew Hampshire &  2.1 &  57 & 56 &  9.5\\\\\n",
       "\tNew Jersey &  7.4 & 159 & 89 & 18.8\\\\\n",
       "\tNew Mexico & 11.4 & 285 & 70 & 32.1\\\\\n",
       "\tNew York & 11.1 & 254 & 86 & 26.1\\\\\n",
       "\tNorth Carolina & 13.0 & 337 & 45 & 16.1\\\\\n",
       "\tNorth Dakota &  0.8 &  45 & 44 &  7.3\\\\\n",
       "\tOhio &  7.3 & 120 & 75 & 21.4\\\\\n",
       "\tOklahoma &  6.6 & 151 & 68 & 20.0\\\\\n",
       "\tOregon &  4.9 & 159 & 67 & 29.3\\\\\n",
       "\tPennsylvania &  6.3 & 106 & 72 & 14.9\\\\\n",
       "\tRhode Island &  3.4 & 174 & 87 &  8.3\\\\\n",
       "\tSouth Carolina & 14.4 & 279 & 48 & 22.5\\\\\n",
       "\tSouth Dakota &  3.8 &  86 & 45 & 12.8\\\\\n",
       "\tTennessee & 13.2 & 188 & 59 & 26.9\\\\\n",
       "\tTexas & 12.7 & 201 & 80 & 25.5\\\\\n",
       "\tUtah &  3.2 & 120 & 80 & 22.9\\\\\n",
       "\tVermont &  2.2 &  48 & 32 & 11.2\\\\\n",
       "\tVirginia &  8.5 & 156 & 63 & 20.7\\\\\n",
       "\tWashington &  4.0 & 145 & 73 & 26.2\\\\\n",
       "\tWest Virginia &  5.7 &  81 & 39 &  9.3\\\\\n",
       "\tWisconsin &  2.6 &  53 & 66 & 10.8\\\\\n",
       "\tWyoming &  6.8 & 161 & 60 & 15.6\\\\\n",
       "\\end{tabular}\n"
      ],
      "text/markdown": [
       "\n",
       "A data.frame: 50 × 4\n",
       "\n",
       "| <!--/--> | Murder &lt;dbl&gt; | Assault &lt;int&gt; | UrbanPop &lt;int&gt; | Rape &lt;dbl&gt; |\n",
       "|---|---|---|---|---|\n",
       "| Alabama | 13.2 | 236 | 58 | 21.2 |\n",
       "| Alaska | 10.0 | 263 | 48 | 44.5 |\n",
       "| Arizona |  8.1 | 294 | 80 | 31.0 |\n",
       "| Arkansas |  8.8 | 190 | 50 | 19.5 |\n",
       "| California |  9.0 | 276 | 91 | 40.6 |\n",
       "| Colorado |  7.9 | 204 | 78 | 38.7 |\n",
       "| Connecticut |  3.3 | 110 | 77 | 11.1 |\n",
       "| Delaware |  5.9 | 238 | 72 | 15.8 |\n",
       "| Florida | 15.4 | 335 | 80 | 31.9 |\n",
       "| Georgia | 17.4 | 211 | 60 | 25.8 |\n",
       "| Hawaii |  5.3 |  46 | 83 | 20.2 |\n",
       "| Idaho |  2.6 | 120 | 54 | 14.2 |\n",
       "| Illinois | 10.4 | 249 | 83 | 24.0 |\n",
       "| Indiana |  7.2 | 113 | 65 | 21.0 |\n",
       "| Iowa |  2.2 |  56 | 57 | 11.3 |\n",
       "| Kansas |  6.0 | 115 | 66 | 18.0 |\n",
       "| Kentucky |  9.7 | 109 | 52 | 16.3 |\n",
       "| Louisiana | 15.4 | 249 | 66 | 22.2 |\n",
       "| Maine |  2.1 |  83 | 51 |  7.8 |\n",
       "| Maryland | 11.3 | 300 | 67 | 27.8 |\n",
       "| Massachusetts |  4.4 | 149 | 85 | 16.3 |\n",
       "| Michigan | 12.1 | 255 | 74 | 35.1 |\n",
       "| Minnesota |  2.7 |  72 | 66 | 14.9 |\n",
       "| Mississippi | 16.1 | 259 | 44 | 17.1 |\n",
       "| Missouri |  9.0 | 178 | 70 | 28.2 |\n",
       "| Montana |  6.0 | 109 | 53 | 16.4 |\n",
       "| Nebraska |  4.3 | 102 | 62 | 16.5 |\n",
       "| Nevada | 12.2 | 252 | 81 | 46.0 |\n",
       "| New Hampshire |  2.1 |  57 | 56 |  9.5 |\n",
       "| New Jersey |  7.4 | 159 | 89 | 18.8 |\n",
       "| New Mexico | 11.4 | 285 | 70 | 32.1 |\n",
       "| New York | 11.1 | 254 | 86 | 26.1 |\n",
       "| North Carolina | 13.0 | 337 | 45 | 16.1 |\n",
       "| North Dakota |  0.8 |  45 | 44 |  7.3 |\n",
       "| Ohio |  7.3 | 120 | 75 | 21.4 |\n",
       "| Oklahoma |  6.6 | 151 | 68 | 20.0 |\n",
       "| Oregon |  4.9 | 159 | 67 | 29.3 |\n",
       "| Pennsylvania |  6.3 | 106 | 72 | 14.9 |\n",
       "| Rhode Island |  3.4 | 174 | 87 |  8.3 |\n",
       "| South Carolina | 14.4 | 279 | 48 | 22.5 |\n",
       "| South Dakota |  3.8 |  86 | 45 | 12.8 |\n",
       "| Tennessee | 13.2 | 188 | 59 | 26.9 |\n",
       "| Texas | 12.7 | 201 | 80 | 25.5 |\n",
       "| Utah |  3.2 | 120 | 80 | 22.9 |\n",
       "| Vermont |  2.2 |  48 | 32 | 11.2 |\n",
       "| Virginia |  8.5 | 156 | 63 | 20.7 |\n",
       "| Washington |  4.0 | 145 | 73 | 26.2 |\n",
       "| West Virginia |  5.7 |  81 | 39 |  9.3 |\n",
       "| Wisconsin |  2.6 |  53 | 66 | 10.8 |\n",
       "| Wyoming |  6.8 | 161 | 60 | 15.6 |\n",
       "\n"
      ],
      "text/plain": [
       "               Murder Assault UrbanPop Rape\n",
       "Alabama        13.2   236     58       21.2\n",
       "Alaska         10.0   263     48       44.5\n",
       "Arizona         8.1   294     80       31.0\n",
       "Arkansas        8.8   190     50       19.5\n",
       "California      9.0   276     91       40.6\n",
       "Colorado        7.9   204     78       38.7\n",
       "Connecticut     3.3   110     77       11.1\n",
       "Delaware        5.9   238     72       15.8\n",
       "Florida        15.4   335     80       31.9\n",
       "Georgia        17.4   211     60       25.8\n",
       "Hawaii          5.3    46     83       20.2\n",
       "Idaho           2.6   120     54       14.2\n",
       "Illinois       10.4   249     83       24.0\n",
       "Indiana         7.2   113     65       21.0\n",
       "Iowa            2.2    56     57       11.3\n",
       "Kansas          6.0   115     66       18.0\n",
       "Kentucky        9.7   109     52       16.3\n",
       "Louisiana      15.4   249     66       22.2\n",
       "Maine           2.1    83     51        7.8\n",
       "Maryland       11.3   300     67       27.8\n",
       "Massachusetts   4.4   149     85       16.3\n",
       "Michigan       12.1   255     74       35.1\n",
       "Minnesota       2.7    72     66       14.9\n",
       "Mississippi    16.1   259     44       17.1\n",
       "Missouri        9.0   178     70       28.2\n",
       "Montana         6.0   109     53       16.4\n",
       "Nebraska        4.3   102     62       16.5\n",
       "Nevada         12.2   252     81       46.0\n",
       "New Hampshire   2.1    57     56        9.5\n",
       "New Jersey      7.4   159     89       18.8\n",
       "New Mexico     11.4   285     70       32.1\n",
       "New York       11.1   254     86       26.1\n",
       "North Carolina 13.0   337     45       16.1\n",
       "North Dakota    0.8    45     44        7.3\n",
       "Ohio            7.3   120     75       21.4\n",
       "Oklahoma        6.6   151     68       20.0\n",
       "Oregon          4.9   159     67       29.3\n",
       "Pennsylvania    6.3   106     72       14.9\n",
       "Rhode Island    3.4   174     87        8.3\n",
       "South Carolina 14.4   279     48       22.5\n",
       "South Dakota    3.8    86     45       12.8\n",
       "Tennessee      13.2   188     59       26.9\n",
       "Texas          12.7   201     80       25.5\n",
       "Utah            3.2   120     80       22.9\n",
       "Vermont         2.2    48     32       11.2\n",
       "Virginia        8.5   156     63       20.7\n",
       "Washington      4.0   145     73       26.2\n",
       "West Virginia   5.7    81     39        9.3\n",
       "Wisconsin       2.6    53     66       10.8\n",
       "Wyoming         6.8   161     60       15.6"
      ]
     },
     "metadata": {},
     "output_type": "display_data"
    },
    {
     "data": {
      "text/plain": [
       "     Murder          Assault         UrbanPop          Rape      \n",
       " Min.   : 0.800   Min.   : 45.0   Min.   :32.00   Min.   : 7.30  \n",
       " 1st Qu.: 4.075   1st Qu.:109.0   1st Qu.:54.50   1st Qu.:15.07  \n",
       " Median : 7.250   Median :159.0   Median :66.00   Median :20.10  \n",
       " Mean   : 7.788   Mean   :170.8   Mean   :65.54   Mean   :21.23  \n",
       " 3rd Qu.:11.250   3rd Qu.:249.0   3rd Qu.:77.75   3rd Qu.:26.18  \n",
       " Max.   :17.400   Max.   :337.0   Max.   :91.00   Max.   :46.00  "
      ]
     },
     "metadata": {},
     "output_type": "display_data"
    },
    {
     "data": {
      "text/plain": [
       "K-means clustering with 3 clusters of sizes 16, 20, 14\n",
       "\n",
       "Cluster means:\n",
       "     Murder  Assault UrbanPop     Rape\n",
       "1 11.812500 272.5625 68.31250 28.37500\n",
       "2  4.270000  87.5500 59.75000 14.39000\n",
       "3  8.214286 173.2857 70.64286 22.84286\n",
       "\n",
       "Clustering vector:\n",
       "       Alabama         Alaska        Arizona       Arkansas     California \n",
       "             1              1              1              3              1 \n",
       "      Colorado    Connecticut       Delaware        Florida        Georgia \n",
       "             3              2              1              1              3 \n",
       "        Hawaii          Idaho       Illinois        Indiana           Iowa \n",
       "             2              2              1              2              2 \n",
       "        Kansas       Kentucky      Louisiana          Maine       Maryland \n",
       "             2              2              1              2              1 \n",
       " Massachusetts       Michigan      Minnesota    Mississippi       Missouri \n",
       "             3              1              2              1              3 \n",
       "       Montana       Nebraska         Nevada  New Hampshire     New Jersey \n",
       "             2              2              1              2              3 \n",
       "    New Mexico       New York North Carolina   North Dakota           Ohio \n",
       "             1              1              1              2              2 \n",
       "      Oklahoma         Oregon   Pennsylvania   Rhode Island South Carolina \n",
       "             3              3              2              3              1 \n",
       "  South Dakota      Tennessee          Texas           Utah        Vermont \n",
       "             2              3              3              2              2 \n",
       "      Virginia     Washington  West Virginia      Wisconsin        Wyoming \n",
       "             3              3              2              2              3 \n",
       "\n",
       "Within cluster sum of squares by cluster:\n",
       "[1] 19563.863 19263.760  9136.643\n",
       " (between_SS / total_SS =  86.5 %)\n",
       "\n",
       "Available components:\n",
       "\n",
       "[1] \"cluster\"      \"centers\"      \"totss\"        \"withinss\"     \"tot.withinss\"\n",
       "[6] \"betweenss\"    \"size\"         \"iter\"         \"ifault\"      "
      ]
     },
     "metadata": {},
     "output_type": "display_data"
    }
   ],
   "source": [
    "# Task 2 - Identify a \"good\" grouping of the US states using the variables \n",
    "# available in the USArrests.csv file\n",
    "\n",
    "df_task2 <- read.csv(\"USArrests.csv\", header = TRUE, row.names = 1)\n",
    "df_task2\n",
    "summary(df_task2)\n",
    "\n",
    "km.res_task2 <- kmeans(df_task2, centers = 3, nstart = 10)\n",
    "km.res_task2"
   ]
  }
 ],
 "metadata": {
  "colab": {
   "collapsed_sections": [],
   "name": "Práctica - Clustering - k - Means.ipynb",
   "provenance": [
    {
     "file_id": "1Rff6D6ADhTHvbtzSN86idtt5Ux-Tw6x5",
     "timestamp": 1573327421470
    },
    {
     "file_id": "1DVcZ_16LqhsKSYRHrD-VeJYejxv1yun5",
     "timestamp": 1573235240729
    },
    {
     "file_id": "https://github.com/IRkernel/IRkernel/blob/master/example-notebooks/Demo.ipynb",
     "timestamp": 1563219604424
    }
   ],
   "toc_visible": true
  },
  "kernelspec": {
   "display_name": "R",
   "language": "R",
   "name": "ir"
  },
  "language_info": {
   "codemirror_mode": "r",
   "file_extension": ".r",
   "mimetype": "text/x-r-source",
   "name": "R",
   "pygments_lexer": "r",
   "version": "3.6.3"
  }
 },
 "nbformat": 4,
 "nbformat_minor": 1
}
